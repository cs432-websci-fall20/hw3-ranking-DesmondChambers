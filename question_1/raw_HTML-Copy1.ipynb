{
 "cells": [
  {
   "cell_type": "code",
   "execution_count": 1,
   "metadata": {},
   "outputs": [],
   "source": [
    "# import needed libraries\n",
    "import requests\n",
    "import urllib.request\n",
    "import hashlib\n",
    "from requests.adapters import HTTPAdapter\n",
    "from requests.packages.urllib3.util.retry import Retry\n",
    "\n",
    "# count for naming files\n",
    "N=0\n",
    "\n",
    "# open file for writing\n",
    "file1 = open('final_urls.txt', 'r', encoding=\"utf-8\") \n",
    "Lines = file1.readlines() \n",
    "\n",
    "# loop through file\n",
    "for line in Lines:\n",
    "    # create session to try reconnect if timeout occurs\n",
    "    session = requests.Session()\n",
    "    retry = Retry(connect=3, backoff_factor=0.5)\n",
    "    adapter = HTTPAdapter(max_retries=retry)\n",
    "    session.mount('http://', adapter)\n",
    "    session.mount('https://', adapter)\n",
    "    \n",
    "    # get the content of web page and save to file\n",
    "    # if ok and pass if not\n",
    "    r = session.get(line)\n",
    "    if r.ok:\n",
    "         Name =str(N+1)\n",
    "         N += 1\n",
    "         with open(\"file\"+Name+\".com\", \"w\") as f:\n",
    "                f.write(r.text)\n",
    "                #print(r.text)\n",
    "    else:\n",
    "        continue\n"
   ]
  },
  {
   "cell_type": "code",
   "execution_count": null,
   "metadata": {},
   "outputs": [],
   "source": []
  },
  {
   "cell_type": "code",
   "execution_count": null,
   "metadata": {},
   "outputs": [],
   "source": []
  }
 ],
 "metadata": {
  "kernelspec": {
   "display_name": "Python 3",
   "language": "python",
   "name": "python3"
  },
  "language_info": {
   "codemirror_mode": {
    "name": "ipython",
    "version": 3
   },
   "file_extension": ".py",
   "mimetype": "text/x-python",
   "name": "python",
   "nbconvert_exporter": "python",
   "pygments_lexer": "ipython3",
   "version": "3.8.5"
  }
 },
 "nbformat": 4,
 "nbformat_minor": 4
}
