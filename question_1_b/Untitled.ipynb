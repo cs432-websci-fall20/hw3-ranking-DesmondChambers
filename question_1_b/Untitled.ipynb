{
 "cells": [
  {
   "cell_type": "code",
   "execution_count": 1,
   "metadata": {},
   "outputs": [],
   "source": [
    "from boilerpy3 import extractors\n",
    "\n",
    "extractor = extractors.ArticleExtractor()\n",
    "\n",
    "for x in range(1, 887): \n",
    "    content = extractor.get_content_from_file('../question_1/file%s.com'  %(x))\n",
    "    name = str(x)\n",
    "    with open(\"processed\"+name+\".com\", \"w\") as f:\n",
    "            f.write(content)\n"
   ]
  },
  {
   "cell_type": "code",
   "execution_count": null,
   "metadata": {},
   "outputs": [],
   "source": []
  }
 ],
 "metadata": {
  "kernelspec": {
   "display_name": "Python 3",
   "language": "python",
   "name": "python3"
  },
  "language_info": {
   "codemirror_mode": {
    "name": "ipython",
    "version": 3
   },
   "file_extension": ".py",
   "mimetype": "text/x-python",
   "name": "python",
   "nbconvert_exporter": "python",
   "pygments_lexer": "ipython3",
   "version": "3.8.5"
  }
 },
 "nbformat": 4,
 "nbformat_minor": 4
}
