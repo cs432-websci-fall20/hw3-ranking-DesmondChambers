{
 "cells": [
  {
   "cell_type": "code",
   "execution_count": 4,
   "metadata": {},
   "outputs": [],
   "source": [
    "import urllib3\n",
    "import hashlib\n",
    "\n",
    "file1 = open('myfile.txt', 'r') \n",
    "Lines = file1.readlines() \n",
    "  \n",
    "http = urllib3.PoolManager()\n",
    "\n",
    "N =1\n",
    "\n",
    "# Strips the newline character \n",
    "for line in Lines:\n",
    "    textUtf8 = line.encode(\"utf-8\")\n",
    "    hash = hashlib.md5(textUtf8)\n",
    "    hexa = hash.hexdigest()\n",
    "    #print(hexa)\n",
    "\n",
    "    r = http.request('GET',hexa)\n",
    "    Name =str(N+1) \n",
    "    N += 1\n",
    "    with open(\"file\"+Name+\".com\", \"wb\") as fcont:\n",
    "        fcont.write(r.data)"
   ]
  },
  {
   "cell_type": "code",
   "execution_count": 2,
   "metadata": {},
   "outputs": [
    {
     "name": "stdout",
     "output_type": "stream",
     "text": [
      "41d5f125d13b4bb554e6e31b6b591eeb\n"
     ]
    }
   ],
   "source": [
    "import hashlib\n",
    "text = \"http://www.cs.odu.edu/show_features.shtml?72\"\n",
    "textUtf8 = text.encode(\"utf-8\")\n",
    "hash = hashlib.md5(textUtf8)\n",
    "hexa = hash.hexdigest()\n",
    "print(hexa)\n"
   ]
  },
  {
   "cell_type": "code",
   "execution_count": 9,
   "metadata": {},
   "outputs": [
    {
     "name": "stdout",
     "output_type": "stream",
     "text": [
      "downloading with urllib\n"
     ]
    }
   ],
   "source": [
    "import urllib3\n",
    "http = urllib3.PoolManager()\n",
    "\n",
    "urls = [\"http://url1.nt.gz\" , \"http://url2.nt.gz\" , \"http://url3.nt.gz\"]\n",
    "N = 1 #// counter helps me to rename the downloaded files\n",
    "print (\"downloading with urllib\")\n",
    "for url in urls:\n",
    " r = http.request('GET',url)\n",
    " Name =str(N+1) #// each time increment the counter by one \n",
    " with open(\"file\"+Name+\".nt.gz\", \"wb\") as fcont:\n",
    "                fcont.write(r.data)"
   ]
  },
  {
   "cell_type": "code",
   "execution_count": null,
   "metadata": {},
   "outputs": [],
   "source": []
  }
 ],
 "metadata": {
  "kernelspec": {
   "display_name": "Python 3",
   "language": "python",
   "name": "python3"
  },
  "language_info": {
   "codemirror_mode": {
    "name": "ipython",
    "version": 3
   },
   "file_extension": ".py",
   "mimetype": "text/x-python",
   "name": "python",
   "nbconvert_exporter": "python",
   "pygments_lexer": "ipython3",
   "version": "3.8.5"
  }
 },
 "nbformat": 4,
 "nbformat_minor": 4
}
