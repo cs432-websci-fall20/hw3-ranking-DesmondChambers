{
 "cells": [
  {
   "cell_type": "code",
   "execution_count": 21,
   "metadata": {},
   "outputs": [
    {
     "name": "stdout",
     "output_type": "stream",
     "text": [
      "TF-IDF  TF      IDF        URI\n",
      "0.0077  0.2987  0.0023\n",
      "\n",
      "0.0069  0.2987  0.0021\n",
      "\n",
      "0.0027  0.2987  0.0008\n",
      "\n",
      "0.0015  0.2987  0.0004\n",
      "\n",
      "0.0014  0.2987  0.0004\n",
      "\n",
      "0.0012  0.2987  0.0004\n",
      "\n",
      "0.0012  0.2987  0.0004\n",
      "\n",
      "0.0010  0.2987  0.0003\n",
      "\n",
      "0.0010  0.2987  0.0003\n",
      "\n",
      "0.0009  0.2987  0.0003\n",
      "\n"
     ]
    }
   ],
   "source": [
    "import math\n",
    "\n",
    "filenumbers = ['853', '820', '806', '375', '328', '310', '231', '4', '111', '204']\n",
    "tf_list = []\n",
    "for number in filenumbers:\n",
    "    data = open('processed%s-Copy1.com' %(number)).read()\n",
    "    words = data.split()\n",
    "    count = data.count('program')\n",
    "    #print('file # ' + number)\n",
    "    #print('occurance: ' + str(count))\n",
    "    int_words = len(words)\n",
    "    #print('words in file: ' + str(int_words))\n",
    "    cal = count/int_words\n",
    "    tf_list.append(cal)\n",
    "    tf_list.sort(reverse = True)\n",
    "\n",
    "idf = math.log2(1000000000/813000000)\n",
    "print('TF-IDF  TF      IDF        URI')\n",
    "for num in tf_list:\n",
    "    tf_idf = num * idf\n",
    "    print(str(f'{num:.4f}')+ '  ' +str(f'{idf:.4f}')+ '  ' + str(f'{tf_idf:.4f}'))\n",
    "    print()"
   ]
  },
  {
   "cell_type": "code",
   "execution_count": null,
   "metadata": {},
   "outputs": [],
   "source": []
  },
  {
   "cell_type": "code",
   "execution_count": null,
   "metadata": {},
   "outputs": [],
   "source": []
  },
  {
   "cell_type": "code",
   "execution_count": null,
   "metadata": {},
   "outputs": [],
   "source": []
  }
 ],
 "metadata": {
  "kernelspec": {
   "display_name": "Python 3",
   "language": "python",
   "name": "python3"
  },
  "language_info": {
   "codemirror_mode": {
    "name": "ipython",
    "version": 3
   },
   "file_extension": ".py",
   "mimetype": "text/x-python",
   "name": "python",
   "nbconvert_exporter": "python",
   "pygments_lexer": "ipython3",
   "version": "3.8.5"
  }
 },
 "nbformat": 4,
 "nbformat_minor": 4
}
